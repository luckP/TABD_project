{
 "cells": [
  {
   "cell_type": "code",
   "execution_count": 1,
   "metadata": {},
   "outputs": [],
   "source": [
    "import numpy as np\n",
    "import matplotlib.pyplot as plt\n",
    "import psycopg2\n",
    "import math\n",
    "from matplotlib.animation import FuncAnimation\n",
    "import datetime\n",
    "import csv\n",
    "from postgis import Polygon,MultiPolygon\n",
    "from postgis.psycopg import register"
   ]
  },
  {
   "cell_type": "code",
   "execution_count": 2,
   "metadata": {},
   "outputs": [],
   "source": [
    "def animate(i):\n",
    "    ax.set_title(datetime.datetime.utcfromtimestamp(ts_i+i*10))\n",
    "    scat.set_offsets(offsets[i])\n",
    "    scat.set_facecolors(taxis_colors[i])"
   ]
  },
  {
   "cell_type": "code",
   "execution_count": 3,
   "metadata": {},
   "outputs": [],
   "source": [
    "scale=1/3000000\n",
    "conn = None\n",
    "conn = psycopg2.connect(database=\"lucparada\", user=\"lucparada\", password='', host=\"127.0.0.1\", port=\"9876\")\n",
    "\n",
    "ts_i = 1570665600\n",
    "ts_f = 1570667000\n",
    "\n",
    "register(conn)\n",
    "# taxis_infection = creatTaxis(conn)"
   ]
  },
  {
   "cell_type": "code",
   "execution_count": null,
   "metadata": {},
   "outputs": [],
   "source": [
    "xs_min, xs_max, ys_min, ys_max = -120000, 165000, -310000, 285000\n",
    "width_in_inches = (xs_max-xs_min)/0.0254*1.1\n",
    "height_in_inches = (ys_max-ys_min)/0.0254*1.1\n",
    "fig, ax = plt.subplots(figsize=(width_in_inches*scale, height_in_inches*scale))\n",
    "ax.axis('off')\n",
    "ax.set(xlim=(xs_min, xs_max), ylim=(ys_min, ys_max))\n",
    "cursor_psql = conn.cursor()\n",
    "sql = \"select distrito,st_union(proj_boundary) from cont_aad_caop2018 group by distrito\"\n",
    "cursor_psql.execute(sql)\n",
    "results = cursor_psql.fetchall()\n",
    "xs , ys = [],[]\n",
    "for row in results:\n",
    "    geom = row[1]\n",
    "    if type(geom) is MultiPolygon:\n",
    "        for pol in geom:\n",
    "            xys = pol[0].coords\n",
    "            xs, ys = [],[]\n",
    "            for (x,y) in xys:\n",
    "                xs.append(x)\n",
    "                ys.append(y)\n",
    "            ax.plot(xs,ys,color='black',lw='0.2')\n",
    "    if type(geom) is Polygon:\n",
    "        xys = geom[0].coords\n",
    "        xs, ys = [],[]\n",
    "        for (x,y) in xys:\n",
    "            xs.append(x)\n",
    "            ys.append(y)\n",
    "        ax.plot(xs,ys,color='black',lw='0.2')\n",
    "        #\n",
    "offsets = []\n",
    "inf = []\n",
    "taxis_colors = []"
   ]
  },
  {
   "cell_type": "code",
   "execution_count": 7,
   "metadata": {},
   "outputs": [
    {
     "ename": "KeyboardInterrupt",
     "evalue": "",
     "output_type": "error",
     "traceback": [
      "\u001b[0;31m---------------------------------------------------------------------------\u001b[0m",
      "\u001b[0;31mKeyboardInterrupt\u001b[0m                         Traceback (most recent call last)",
      "\u001b[0;32m<ipython-input-7-415dbb821517>\u001b[0m in \u001b[0;36m<module>\u001b[0;34m\u001b[0m\n\u001b[1;32m     26\u001b[0m \u001b[0;34m\u001b[0m\u001b[0m\n\u001b[1;32m     27\u001b[0m         \u001b[0;32mfor\u001b[0m \u001b[0mtaxi_inf\u001b[0m \u001b[0;32min\u001b[0m \u001b[0minf\u001b[0m\u001b[0;34m:\u001b[0m\u001b[0;34m\u001b[0m\u001b[0;34m\u001b[0m\u001b[0m\n\u001b[0;32m---> 28\u001b[0;31m             \u001b[0mtaxis_frame\u001b[0m\u001b[0;34m[\u001b[0m\u001b[0mtaxi_inf\u001b[0m\u001b[0;34m]\u001b[0m \u001b[0;34m=\u001b[0m \u001b[0;34m'red'\u001b[0m\u001b[0;34m\u001b[0m\u001b[0;34m\u001b[0m\u001b[0m\n\u001b[0m\u001b[1;32m     29\u001b[0m             \u001b[0;31m#print(\"l: \", str(l))\u001b[0m\u001b[0;34m\u001b[0m\u001b[0;34m\u001b[0m\u001b[0;34m\u001b[0m\u001b[0m\n\u001b[1;32m     30\u001b[0m \u001b[0;34m\u001b[0m\u001b[0m\n",
      "\u001b[0;31mKeyboardInterrupt\u001b[0m: "
     ]
    }
   ],
   "source": [
    "\n",
    "with open('offsets3.csv', 'r') as csvFile:\n",
    "    reader = csv.reader(csvFile)\n",
    "    i = 0\n",
    "    for row in reader:\n",
    "        taxis_frame = ['green' for ids in range(len(row))]\n",
    "        ids = 0\n",
    "        l = []\n",
    "        for j in row:\n",
    "            x,y = j.split()\n",
    "            x = float(x)\n",
    "            y = float(y)\n",
    "            if (x != 0) or (y != 0):\n",
    "                if len(inf) <= 10:\n",
    "                    print(\"inf: \",str(inf))\n",
    "                    inf.append(ids)\n",
    "\n",
    "#                 if ids not in inf:\n",
    "#                     for taxi_inf in inf:\n",
    "#                         x2,y2 = row[taxi_inf].split()\n",
    "#                         x2 = float(x2)\n",
    "#                         y2 = float(y2)\n",
    "#                         if np.sqrt(((x-x2)**2)+((y-y2)**2)) <= 100:\n",
    "#                             inf.append(ids)\n",
    "            ids += 1\n",
    "            l.append([x, y])\n",
    "\n",
    "        for taxi_inf in inf:\n",
    "            taxis_frame[taxi_inf] = 'red'\n",
    "            #print(\"l: \", str(l))\n",
    "\n",
    "        offsets.append(l)\n",
    "        taxis_colors.append(taxis_frame)\n",
    "        i += 1\n",
    "\n",
    "x,y = [],[]\n",
    "\n",
    "for i in offsets[0]:\n",
    "    print(\"i: \", i)\n",
    "    x.append(i[0])\n",
    "    y.append(i[1])\n",
    "    #id = i[2]\n",
    "\n",
    "    #color = 'green'\n",
    "    #if id in inf:\n",
    "    #    color = 'red'\n",
    "\n",
    "    scat = ax.scatter(x,y,s=2)\n",
    "    anim = FuncAnimation(\n",
    "        fig, animate, interval=10, frames=len(offsets)-1, repeat = False)\n",
    "    plt.draw()\n",
    "    plt.show()"
   ]
  },
  {
   "cell_type": "code",
   "execution_count": null,
   "metadata": {},
   "outputs": [],
   "source": []
  }
 ],
 "metadata": {
  "kernelspec": {
   "display_name": "Python 3",
   "language": "python",
   "name": "python3"
  },
  "language_info": {
   "codemirror_mode": {
    "name": "ipython",
    "version": 3
   },
   "file_extension": ".py",
   "mimetype": "text/x-python",
   "name": "python",
   "nbconvert_exporter": "python",
   "pygments_lexer": "ipython3",
   "version": "3.7.4"
  }
 },
 "nbformat": 4,
 "nbformat_minor": 4
}
